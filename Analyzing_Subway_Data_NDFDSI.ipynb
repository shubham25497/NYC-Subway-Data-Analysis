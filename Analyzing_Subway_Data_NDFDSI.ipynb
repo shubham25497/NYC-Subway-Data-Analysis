{
 "cells": [
  {
   "cell_type": "markdown",
   "metadata": {},
   "source": [
    "# Subway Data Analysis\n",
    "\n",
    "## Introduction\n",
    "\n",
    "The NYC public transportantion system - Metro Transit Authority - provides data for download via csv files. Part of the information available are data from the subway turnstiles, containing weekly logs for cumulative entries and exits by turnstile and by subway station during a provided timeframe.\n",
    "\n",
    "\n",
    "For this project, we will only use the information available at: http://web.mta.info/developers/turnstile.html.\n",
    "\n",
    "\n"
   ]
  },
  {
   "cell_type": "markdown",
   "metadata": {},
   "source": [
    "# About this project\n",
    "\n",
    "For this project, you will apply the knowledge acquired in the first month of this course. We will practice basic data acquisition and data cleaning tasks to find out fundamental stuff about the data using what we learned in the Statistics course. \n",
    "\n",
    "The goal of this project is to explore the relationship between data from the NYC Subway turnstiles and the city weather. For this, besides data from the subway, we will also need data from the weather in NYC. \n",
    "\n",
    "Here are the main points that will be considered in this work:\n",
    "\n",
    "- Gathering data from the Internet\n",
    "- Using Statistics for Data Analysis\n",
    "- Data handling and simple graphics creation with `Pandas`\n",
    "\n",
    "*How to find help*: We suggest that you try the following channels, in the following order:\n",
    "\n",
    "| Type of Question\\Channels    \t| Google \t| Forum \t| Slack \t| Email \t|\n",
    "|-------------------------------\t|--------\t|-------\t|-------\t|-------\t|\n",
    "| Pandas and Python Programming \t| 1      \t| 2     \t| 3     \t|       \t|\n",
    "| Projects Requiriments         \t|        \t| 1     \t| 2     \t| 3     \t|\n",
    "| Projects Specific Parts       \t|        \t| 1     \t| 2     \t| 3     \t|\n",
    "\n",
    "Here is the address for each of these channels:\n",
    "\n",
    "- Forum: https://discussions.udacity.com/c/ndfdsi-project\n",
    "- Slack: [Big Data Foundations](https://goo.gl/4K7LWK)\n",
    "- Email: india@udacity.com\n",
    "\n",
    "**The student is expected to submit this report including:**\n",
    "\n",
    "- All TODO's completed, as they are crucial for the code to run accordingly\n",
    "- The ipynb file, exported as html\n",
    "\n",
    "To submit this project, go to the [classroom](https://coco.udacity.com/nanodegrees/nd100-inbig/locale/en-us/versions/1.0.0/parts/469348/modules/469702/lessons/469703/project), and submit your zipped `.ipynb` and html."
   ]
  },
  {
   "cell_type": "markdown",
   "metadata": {},
   "source": [
    "# Reminders\n",
    "\n",
    "Before we start, there are a few things you must have in mind while using iPython notebooks:\n",
    "\n",
    "- Remember you can see, in the left side of a code cell, when was the last time it ran, if there is a number inside the keys.\n",
    "- When starting a new session in the notebook, please make sure to run all cells up to the point where you last left it. Even if the output can still be viewed from the moment you ran your cells in the previews session, the kernel starts in a new state, so you will need to reload all data, etc. in a new session.\n",
    "- The previous point is useful to have in mind if your answers do not match what is expected from the quizzes in the classroom. Try reloading the data and running all processing steps, one by one, to make sure you're working with the same variables and data from each step of the quizz."
   ]
  },
  {
   "cell_type": "markdown",
   "metadata": {},
   "source": [
    "## Session 1 - Data Gathering\n",
    "\n",
    "### *Exercise 1.1*\n",
    "\n",
    "Let's do it!! Now it's your turn to gather data. Please write bellow a Python code to access the link http://web.mta.info/developers/turnstile.html and download all files from June 2017. The file must be named turnstile_100617.txt, where 10/06/17 is the file's date.\n",
    "\n",
    "Please see below a few commands that might help you:\n",
    "\n",
    "Use the **urllib** library to open and redeem a webpage. Use the command below, where **url** is the webpage path to the following file:\n",
    "\n",
    "```python\n",
    "u = urllib.urlopen(url)\n",
    "html = u.read()\n",
    "```\n",
    "\n",
    "Use the **BeautifulSoup** library to search for the link to the file you want to donwload in the page. Use the command below to create your *soup* object and search for all 'a' tags in the document:\n",
    " \n",
    " \n",
    "```python\n",
    "soup = BeautifulSoup(html, \"html.parser\")\n",
    "links = soup.find_all('a')\n",
    "```\n",
    "\n",
    "A tip to only download the files from June is to check data in the name of the file. For instance, to donwload the 17/06/2017 file, please see if the link ends with *\"turnstile_170610.txt\"*. If you forget to do this, you will download all files from that page. In order to do this, you can use the following command:\n",
    "\n",
    "```python\n",
    "if '1706' in link.get('href'):\n",
    "```\n",
    "\n",
    "Our final tip is to use the command bellow to download the txt file:\n",
    "\n",
    "```python\n",
    "urllib.urlretrieve(link_do_arquivo, filename)\n",
    "```\n",
    "\n",
    "Please remember - you first have to load all packages and functions that will be used in your analysys."
   ]
  },
  {
   "cell_type": "code",
   "execution_count": 34,
   "metadata": {
    "collapsed": true
   },
   "outputs": [],
   "source": [
    "import urllib\n",
    "import urllib.request                     # used in python 3\n",
    "from bs4 import BeautifulSoup\n",
    "\n",
    "u = urllib.request.urlopen('http://web.mta.info/developers/turnstile.html')\n",
    "html=u.read()\n",
    "soup = BeautifulSoup(html,\"html.parser\")\n",
    "links = soup.find_all('a')\n",
    "\n",
    "for i in links:                     # to iterate in all the anchor tags  found in links\n",
    "        site = i.get(\"href\")  \n",
    "    \n",
    "        if site is not None and \"1706\" in site:    # checking for files of June in href part of anchor tag\n",
    "    \n",
    "            save_as = 'turnstile_'               # changing filename to save locally in given format\n",
    "        \n",
    "            changed_order = site[-6:-4]+site[-8:-6]+site[-10:-8]\n",
    "        \n",
    "            save_as = save_as+changed_order+\".txt\"\n",
    "        \n",
    "            var = \"http://web.mta.info/developers/\"+site\n",
    "        \n",
    "            urllib.request.urlretrieve(var,save_as)\n",
    "        \n"
   ]
  },
  {
   "cell_type": "markdown",
   "metadata": {},
   "source": [
    "### *Exercise 1.2*\n",
    "\n",
    "Write down a function that takes the list of all names of the files you downloaded in Exercise 1.1 and compile them into one single file. There must be only one header line in the output file. \n",
    "\n",
    "For example, if file_1 has:\n",
    "line 1...\n",
    "line 2...\n",
    "\n",
    "and the other file, file_2, has:\n",
    "line 3...\n",
    "line 4...\n",
    "line 5...\n",
    "\n",
    "We must combine file_1 and file_2 into one master file, as follows:\n",
    "\n",
    "'C/A, UNIT, SCP, DATEn, TIMEn, DESCn, ENTRIESn, EXITSn'\n",
    "line 1...\n",
    "line 2...\n",
    "line 3...\n",
    "line 4...\n",
    "line 5...\n"
   ]
  },
  {
   "cell_type": "code",
   "execution_count": 10,
   "metadata": {
    "collapsed": true
   },
   "outputs": [],
   "source": [
    "def create_master_turnstile_file(filenames, output_file): #defination\n",
    "   \n",
    "    with open(output_file, 'w') as master_file:\n",
    "        \n",
    "        master_file.write('C/A,UNIT,SCP,STATION, LINENAME, DIVISION, DATEn,TIMEn,DESCn,ENTRIESn,EXITSn\\n')\n",
    "      \n",
    "        for filename in filenames:\n",
    "        \n",
    "            with open(filename,'r') as files:\n",
    "             \n",
    "                next(files)                     #skips the header line of each file\n",
    "                \n",
    "                master_file.write(files.read())\n",
    "    \n",
    "    return None\n",
    "\n",
    "\n",
    "filenames = {\"turnstile_030617.txt\",\"turnstile_100617.txt\",\"turnstile_170617.txt\",\"turnstile_240617.txt\"}\n",
    "\n",
    "create_master_turnstile_file(filenames,'output_file.txt');   #calling \n",
    "            "
   ]
  },
  {
   "cell_type": "markdown",
   "metadata": {},
   "source": [
    "### *Exercise 1.3*\n",
    "\n",
    "For this exercise, you will write a function that reads the master_file created in the previous exercise and load it into a Pandas Dataframe. This function can be filtered, so that the Dataframe only has lines where column \"DESCn\" has the value \"Regular\".\n",
    "\n",
    "For example, if the Pandas Dataframe looks like this:\n",
    "    \n",
    "    ,C/A,UNIT,SCP,DATEn,TIMEn,DESCn,ENTRIESn,EXITSn\n",
    "    0,A002,R051,02-00-00,05-01-11,00:00:00,REGULAR,3144312,1088151\n",
    "    1,A002,R051,02-00-00,05-01-11,04:00:00,DOOR,3144335,1088159\n",
    "    2,A002,R051,02-00-00,05-01-11,08:00:00,REGULAR,3144353,1088177\n",
    "    3,A002,R051,02-00-00,05-01-11,12:00:00,DOOR,3144424,1088231\n",
    "\n",
    "The Dataframe must look like the following, after filtering only the lines where column DESCn has the value REGULAR:\n",
    "\n",
    "    0,A002,R051,02-00-00,05-01-11,00:00:00,REGULAR,3144312,1088151\n",
    "    2,A002,R051,02-00-00,05-01-11,08:00:00,REGULAR,3144353,1088177\n"
   ]
  },
  {
   "cell_type": "code",
   "execution_count": 11,
   "metadata": {
    "collapsed": true
   },
   "outputs": [],
   "source": [
    "import pandas\n",
    "\n",
    "def filter_by_regular(filename):  #defination\n",
    "    \n",
    "    turnstile_data = pandas.read_csv(filename)\n",
    "   \n",
    "    turnstile_data = turnstile_data.loc[turnstile_data[\"DESCn\"]==\"REGULAR\"]  # .loc function is used to filter the data according to some given condition\n",
    "    \n",
    "    return turnstile_data\n",
    "\n",
    "print (filter_by_regular('output_file.txt')) #calling"
   ]
  },
  {
   "cell_type": "markdown",
   "metadata": {},
   "source": [
    "### *Exercise 1.4*\n",
    "\n",
    "\n",
    "The NYC Subway data has cumulative entry and exit data in each line. Let's assume you have a Dataframe called df, which contains only lines for one particular turnstile (unique SCP, C/A, and UNIT). The following function must change these cumulative entries for counting all entries since the last reading (entries from the last line of the Dataframe).\n",
    "\n",
    "More specifically, there are two things you should do:\n",
    "\n",
    "1 - Create a new column, called ENTRIESn_hourly\n",
    "2 - Insert in this column the difference between ENTRIESn in the current and the previous column. If the line has any NAN, fill it out/replace by 1.\n",
    "\n",
    "Tip: The funtions shift() and fillna() in Pandas might be usefull for this exercise.\n",
    "\n",
    "Below you will find and example of how your Dataframe should look by the end of this exercise:\n",
    "\n",
    "        C/A  UNIT       SCP     DATEn     TIMEn    DESCn  ENTRIESn    EXITSn  ENTRIESn_hourly\n",
    "    0     A002  R051  02-00-00  05-01-11  00:00:00  REGULAR   3144312   1088151                1\n",
    "    1     A002  R051  02-00-00  05-01-11  04:00:00  REGULAR   3144335   1088159               23\n",
    "    2     A002  R051  02-00-00  05-01-11  08:00:00  REGULAR   3144353   1088177               18\n",
    "    3     A002  R051  02-00-00  05-01-11  12:00:00  REGULAR   3144424   1088231               71\n",
    "    4     A002  R051  02-00-00  05-01-11  16:00:00  REGULAR   3144594   1088275              170\n",
    "    5     A002  R051  02-00-00  05-01-11  20:00:00  REGULAR   3144808   1088317              214\n",
    "    6     A002  R051  02-00-00  05-02-11  00:00:00  REGULAR   3144895   1088328               87\n",
    "    7     A002  R051  02-00-00  05-02-11  04:00:00  REGULAR   3144905   1088331               10\n",
    "    8     A002  R051  02-00-00  05-02-11  08:00:00  REGULAR   3144941   1088420               36\n",
    "    9     A002  R051  02-00-00  05-02-11  12:00:00  REGULAR   3145094   1088753              153\n",
    "    10    A002  R051  02-00-00  05-02-11  16:00:00  REGULAR   3145337   1088823              243"
   ]
  },
  {
   "cell_type": "code",
   "execution_count": 13,
   "metadata": {
    "collapsed": true
   },
   "outputs": [],
   "source": [
    "import pandas\n",
    "\n",
    "def get_hourly_entries(df):  #defination\n",
    "    \n",
    "    df['ENTRIESn_hourly'] = df['ENTRIESn']-df['ENTRIESn'].shift(1) #shift(n) is used to shift the rows of dataframe n units\n",
    "    \n",
    "    df.fillna(value=1,inplace=True)\n",
    "\n",
    "    return df\n",
    "\n",
    "df=pandas.read_csv(\"output_file.txt\");\n",
    "\n",
    "print(get_hourly_entries(df)) #calling"
   ]
  },
  {
   "cell_type": "markdown",
   "metadata": {},
   "source": [
    "### *Exercise 1.5*\n",
    "\n",
    "Do the same thing you did in the previous exercise, but taking into account the exits, column EXITSn.\n",
    "For this, you need to create a column called EXITSn_hourly and insert the difference between the column EXITSn in the current line vs he previous line. If there is any NaN, fill it out/replace by 0.\n",
    "\n"
   ]
  },
  {
   "cell_type": "code",
   "execution_count": 14,
   "metadata": {
    "collapsed": true
   },
   "outputs": [],
   "source": [
    "import pandas\n",
    "\n",
    "def get_hourly_exits(df): #defination\n",
    "   \n",
    "    df['EXITSn_hourly'] = df['EXITSn']-df['EXITSn'].shift(1)\n",
    "    \n",
    "    df.fillna(value=0,inplace=True)         # fillna(value = 'X') replaces the NaN values with 'X'\n",
    "    \n",
    "    return df\n",
    "\n",
    "df=pandas.read_csv(\"output_file.txt\");\n",
    "\n",
    "print(get_hourly_exits(df)) #calling"
   ]
  },
  {
   "cell_type": "markdown",
   "metadata": {},
   "source": [
    "### *Exercise 1.6*\n",
    "\n",
    "Given an entry variable that represents time, in the format:\n",
    "     \"00:00:00\" (hour: minutes: seconds)\n",
    "    \n",
    "Write a function to extract the hour part from the time in the entry variable\n",
    "And return it as an integer. For example:\n",
    "         \n",
    "         1) if hour is 00, your code must return 0\n",
    "         2) if hour is 01, your code must return 1\n",
    "         3) if hour is 21, your code must return 21\n",
    "        \n",
    "Please return te hour as an integer.\n"
   ]
  },
  {
   "cell_type": "code",
   "execution_count": 16,
   "metadata": {
    "collapsed": true
   },
   "outputs": [],
   "source": [
    "def time_to_hour(time): #defination\n",
    "    \n",
    "    hour = time.TIMEn.str[-8:-6].astype(int)  #slicing just Hour part of the time and changing it to int\n",
    "  \n",
    "    return hour\n",
    "\n",
    "df=pandas.read_csv(\"output_file.txt\");\n",
    "\n",
    "print(time_to_hour(df)) #calling"
   ]
  },
  {
   "cell_type": "markdown",
   "metadata": {},
   "source": [
    "## Exercise 2 - Data Analysis\n",
    "\n",
    "### *Exercise 2.1*\n",
    "\n",
    "To understand the relationship between the Subway activity and the weather, please complete the data from the file already downloaded with the weather data.\n",
    "We provided you with the file containing NYC weather data and made it available with the Support Material. You can access it through the link: https://s3.amazonaws.com/content.udacity-data.com/courses/ud359/turnstile_data_master_with_weather.csv\n",
    "\n",
    "Now that we have our data in a csv file, write Python code that reads this file and saves it into a Pandas Dataframe. \n",
    "\n",
    "Tip: \n",
    "\n",
    "Use the command below to read the file:\n",
    "\n",
    "```python\n",
    "pd.read_csv('output_list.txt', sep=\",\")\n",
    "```\n",
    "\n"
   ]
  },
  {
   "cell_type": "code",
   "execution_count": 5,
   "metadata": {},
   "outputs": [
    {
     "name": "stdout",
     "output_type": "stream",
     "text": [
      "        Unnamed: 0  UNIT       DATEn     TIMEn  Hour    DESCn  \\\n",
      "0                0  R001  2011-05-01  01:00:00     1  REGULAR   \n",
      "1                1  R001  2011-05-01  05:00:00     5  REGULAR   \n",
      "2                2  R001  2011-05-01  09:00:00     9  REGULAR   \n",
      "3                3  R001  2011-05-01  13:00:00    13  REGULAR   \n",
      "4                4  R001  2011-05-01  17:00:00    17  REGULAR   \n",
      "5                5  R001  2011-05-01  21:00:00    21  REGULAR   \n",
      "6                6  R002  2011-05-01  01:00:00     1  REGULAR   \n",
      "7                7  R002  2011-05-01  05:00:00     5  REGULAR   \n",
      "8                8  R002  2011-05-01  09:00:00     9  REGULAR   \n",
      "9                9  R002  2011-05-01  13:00:00    13  REGULAR   \n",
      "10              10  R002  2011-05-01  17:00:00    17  REGULAR   \n",
      "11              11  R002  2011-05-01  21:00:00    21  REGULAR   \n",
      "12              12  R003  2011-05-01  00:00:00     0  REGULAR   \n",
      "13              13  R003  2011-05-01  04:00:00     4  REGULAR   \n",
      "14              14  R003  2011-05-01  12:00:00    12  REGULAR   \n",
      "15              15  R003  2011-05-01  16:00:00    16  REGULAR   \n",
      "16              16  R003  2011-05-01  20:00:00    20  REGULAR   \n",
      "17              17  R004  2011-05-01  00:00:00     0  REGULAR   \n",
      "18              18  R004  2011-05-01  04:00:00     4  REGULAR   \n",
      "19              19  R004  2011-05-01  08:00:00     8  REGULAR   \n",
      "20              20  R004  2011-05-01  12:00:00    12  REGULAR   \n",
      "21              21  R004  2011-05-01  16:00:00    16  REGULAR   \n",
      "22              22  R004  2011-05-01  20:00:00    20  REGULAR   \n",
      "23              23  R005  2011-05-01  00:00:00     0  REGULAR   \n",
      "24              24  R005  2011-05-01  04:00:00     4  REGULAR   \n",
      "25              25  R005  2011-05-01  12:00:00    12  REGULAR   \n",
      "26              26  R005  2011-05-01  16:00:00    16  REGULAR   \n",
      "27              27  R005  2011-05-01  20:00:00    20  REGULAR   \n",
      "28              28  R006  2011-05-01  00:00:00     0  REGULAR   \n",
      "29              29  R006  2011-05-01  04:00:00     4  REGULAR   \n",
      "...            ...   ...         ...       ...   ...      ...   \n",
      "131921      131921  R552  2011-05-30  17:55:25    17  REGULAR   \n",
      "131922      131922  R552  2011-05-30  18:09:09    18  REGULAR   \n",
      "131923      131923  R552  2011-05-30  18:15:11    18  REGULAR   \n",
      "131924      131924  R552  2011-05-30  18:27:32    18  REGULAR   \n",
      "131925      131925  R552  2011-05-30  18:46:54    18  REGULAR   \n",
      "131926      131926  R552  2011-05-30  19:09:29    19  REGULAR   \n",
      "131927      131927  R552  2011-05-30  19:11:30    19  REGULAR   \n",
      "131928      131928  R552  2011-05-30  19:16:44    19  REGULAR   \n",
      "131929      131929  R552  2011-05-30  19:23:45    19  REGULAR   \n",
      "131930      131930  R552  2011-05-30  19:36:27    19  REGULAR   \n",
      "131931      131931  R552  2011-05-30  19:38:47    19  REGULAR   \n",
      "131932      131932  R552  2011-05-30  19:52:07    19  REGULAR   \n",
      "131933      131933  R552  2011-05-30  20:10:01    20  REGULAR   \n",
      "131934      131934  R552  2011-05-30  20:17:36    20  REGULAR   \n",
      "131935      131935  R552  2011-05-30  20:23:06    20  REGULAR   \n",
      "131936      131936  R552  2011-05-30  20:51:44    20  REGULAR   \n",
      "131937      131937  R552  2011-05-30  20:58:04    20  REGULAR   \n",
      "131938      131938  R552  2011-05-30  20:58:21    20  REGULAR   \n",
      "131939      131939  R552  2011-05-30  21:14:49    21  REGULAR   \n",
      "131940      131940  R552  2011-05-30  21:21:28    21  REGULAR   \n",
      "131941      131941  R552  2011-05-30  22:07:25    22  REGULAR   \n",
      "131942      131942  R552  2011-05-30  22:21:09    22  REGULAR   \n",
      "131943      131943  R552  2011-05-30  22:27:11    22  REGULAR   \n",
      "131944      131944  R552  2011-05-30  22:39:32    22  REGULAR   \n",
      "131945      131945  R552  2011-05-30  22:58:54    22  REGULAR   \n",
      "131946      131946  R552  2011-05-30  23:21:29    23  REGULAR   \n",
      "131947      131947  R552  2011-05-30  23:23:30    23  REGULAR   \n",
      "131948      131948  R552  2011-05-30  23:28:44    23  REGULAR   \n",
      "131949      131949  R552  2011-05-30  23:35:45    23  REGULAR   \n",
      "131950      131950  R552  2011-05-30  23:50:47    23  REGULAR   \n",
      "\n",
      "        ENTRIESn_hourly  EXITSn_hourly  maxpressurei  maxdewpti   ...     \\\n",
      "0                   0.0            0.0         30.31       42.0   ...      \n",
      "1                 217.0          553.0         30.31       42.0   ...      \n",
      "2                 890.0         1262.0         30.31       42.0   ...      \n",
      "3                2451.0         3708.0         30.31       42.0   ...      \n",
      "4                4400.0         2501.0         30.31       42.0   ...      \n",
      "5                3372.0         2122.0         30.31       42.0   ...      \n",
      "6                   0.0            0.0         30.31       42.0   ...      \n",
      "7                  42.0           66.0         30.31       42.0   ...      \n",
      "8                  50.0          125.0         30.31       42.0   ...      \n",
      "9                 316.0          716.0         30.31       42.0   ...      \n",
      "10                633.0          968.0         30.31       42.0   ...      \n",
      "11                639.0          566.0         30.31       42.0   ...      \n",
      "12                  0.0            0.0         30.31       42.0   ...      \n",
      "13                  0.0            0.0         30.31       42.0   ...      \n",
      "14                  0.0            0.0         30.31       42.0   ...      \n",
      "15                  0.0            0.0         30.31       42.0   ...      \n",
      "16                  0.0            0.0         30.31       42.0   ...      \n",
      "17                  0.0            0.0         30.31       42.0   ...      \n",
      "18                  0.0            0.0         30.31       42.0   ...      \n",
      "19                  0.0            0.0         30.31       42.0   ...      \n",
      "20                  0.0            0.0         30.31       42.0   ...      \n",
      "21                  0.0            0.0         30.31       42.0   ...      \n",
      "22                  0.0            0.0         30.31       42.0   ...      \n",
      "23                  0.0            0.0         30.31       42.0   ...      \n",
      "24                  0.0            2.0         30.31       42.0   ...      \n",
      "25                  0.0            2.0         30.31       42.0   ...      \n",
      "26                  1.0            7.0         30.31       42.0   ...      \n",
      "27                  0.0            0.0         30.31       42.0   ...      \n",
      "28                  0.0            0.0         30.31       42.0   ...      \n",
      "29                  0.0            1.0         30.31       42.0   ...      \n",
      "...                 ...            ...           ...        ...   ...      \n",
      "131921              6.0            2.0         30.13       70.0   ...      \n",
      "131922            192.0           55.0         30.13       70.0   ...      \n",
      "131923            350.0           90.0         30.13       70.0   ...      \n",
      "131924             25.0            3.0         30.13       70.0   ...      \n",
      "131925              0.0            0.0         30.13       70.0   ...      \n",
      "131926             30.0            2.0         30.13       70.0   ...      \n",
      "131927            208.0          998.0         30.13       70.0   ...      \n",
      "131928            107.0          199.0         30.13       70.0   ...      \n",
      "131929            139.0           38.0         30.13       70.0   ...      \n",
      "131930            331.0          399.0         30.13       70.0   ...      \n",
      "131931            275.0           71.0         30.13       70.0   ...      \n",
      "131932            133.0           39.0         30.13       70.0   ...      \n",
      "131933              7.0          332.0         30.13       70.0   ...      \n",
      "131934            128.0          447.0         30.13       70.0   ...      \n",
      "131935            142.0          677.0         30.13       70.0   ...      \n",
      "131936              0.0            0.0         30.13       70.0   ...      \n",
      "131937            248.0          257.0         30.13       70.0   ...      \n",
      "131938             62.0           32.0         30.13       70.0   ...      \n",
      "131939            116.0          726.0         30.13       70.0   ...      \n",
      "131940             68.0          115.0         30.13       70.0   ...      \n",
      "131941              7.0            4.0         30.13       70.0   ...      \n",
      "131942             80.0           63.0         30.13       70.0   ...      \n",
      "131943            195.0          207.0         30.13       70.0   ...      \n",
      "131944             18.0            4.0         30.13       70.0   ...      \n",
      "131945              0.0            0.0         30.13       70.0   ...      \n",
      "131946             19.0           14.0         30.13       70.0   ...      \n",
      "131947            158.0         1022.0         30.13       70.0   ...      \n",
      "131948             54.0          275.0         30.13       70.0   ...      \n",
      "131949             59.0           46.0         30.13       70.0   ...      \n",
      "131950            123.0          108.0         30.13       70.0   ...      \n",
      "\n",
      "        meandewpti  meanpressurei  fog  rain  meanwindspdi  mintempi  \\\n",
      "0             39.0          30.27  0.0   0.0           5.0      50.0   \n",
      "1             39.0          30.27  0.0   0.0           5.0      50.0   \n",
      "2             39.0          30.27  0.0   0.0           5.0      50.0   \n",
      "3             39.0          30.27  0.0   0.0           5.0      50.0   \n",
      "4             39.0          30.27  0.0   0.0           5.0      50.0   \n",
      "5             39.0          30.27  0.0   0.0           5.0      50.0   \n",
      "6             39.0          30.27  0.0   0.0           5.0      50.0   \n",
      "7             39.0          30.27  0.0   0.0           5.0      50.0   \n",
      "8             39.0          30.27  0.0   0.0           5.0      50.0   \n",
      "9             39.0          30.27  0.0   0.0           5.0      50.0   \n",
      "10            39.0          30.27  0.0   0.0           5.0      50.0   \n",
      "11            39.0          30.27  0.0   0.0           5.0      50.0   \n",
      "12            39.0          30.27  0.0   0.0           5.0      50.0   \n",
      "13            39.0          30.27  0.0   0.0           5.0      50.0   \n",
      "14            39.0          30.27  0.0   0.0           5.0      50.0   \n",
      "15            39.0          30.27  0.0   0.0           5.0      50.0   \n",
      "16            39.0          30.27  0.0   0.0           5.0      50.0   \n",
      "17            39.0          30.27  0.0   0.0           5.0      50.0   \n",
      "18            39.0          30.27  0.0   0.0           5.0      50.0   \n",
      "19            39.0          30.27  0.0   0.0           5.0      50.0   \n",
      "20            39.0          30.27  0.0   0.0           5.0      50.0   \n",
      "21            39.0          30.27  0.0   0.0           5.0      50.0   \n",
      "22            39.0          30.27  0.0   0.0           5.0      50.0   \n",
      "23            39.0          30.27  0.0   0.0           5.0      50.0   \n",
      "24            39.0          30.27  0.0   0.0           5.0      50.0   \n",
      "25            39.0          30.27  0.0   0.0           5.0      50.0   \n",
      "26            39.0          30.27  0.0   0.0           5.0      50.0   \n",
      "27            39.0          30.27  0.0   0.0           5.0      50.0   \n",
      "28            39.0          30.27  0.0   0.0           5.0      50.0   \n",
      "29            39.0          30.27  0.0   0.0           5.0      50.0   \n",
      "...            ...            ...  ...   ...           ...       ...   \n",
      "131921        68.0          30.08  0.0   1.0           5.0      70.0   \n",
      "131922        68.0          30.08  0.0   1.0           5.0      70.0   \n",
      "131923        68.0          30.08  0.0   1.0           5.0      70.0   \n",
      "131924        68.0          30.08  0.0   1.0           5.0      70.0   \n",
      "131925        68.0          30.08  0.0   1.0           5.0      70.0   \n",
      "131926        68.0          30.08  0.0   1.0           5.0      70.0   \n",
      "131927        68.0          30.08  0.0   1.0           5.0      70.0   \n",
      "131928        68.0          30.08  0.0   1.0           5.0      70.0   \n",
      "131929        68.0          30.08  0.0   1.0           5.0      70.0   \n",
      "131930        68.0          30.08  0.0   1.0           5.0      70.0   \n",
      "131931        68.0          30.08  0.0   1.0           5.0      70.0   \n",
      "131932        68.0          30.08  0.0   1.0           5.0      70.0   \n",
      "131933        68.0          30.08  0.0   1.0           5.0      70.0   \n",
      "131934        68.0          30.08  0.0   1.0           5.0      70.0   \n",
      "131935        68.0          30.08  0.0   1.0           5.0      70.0   \n",
      "131936        68.0          30.08  0.0   1.0           5.0      70.0   \n",
      "131937        68.0          30.08  0.0   1.0           5.0      70.0   \n",
      "131938        68.0          30.08  0.0   1.0           5.0      70.0   \n",
      "131939        68.0          30.08  0.0   1.0           5.0      70.0   \n",
      "131940        68.0          30.08  0.0   1.0           5.0      70.0   \n",
      "131941        68.0          30.08  0.0   1.0           5.0      70.0   \n",
      "131942        68.0          30.08  0.0   1.0           5.0      70.0   \n",
      "131943        68.0          30.08  0.0   1.0           5.0      70.0   \n",
      "131944        68.0          30.08  0.0   1.0           5.0      70.0   \n",
      "131945        68.0          30.08  0.0   1.0           5.0      70.0   \n",
      "131946        68.0          30.08  0.0   1.0           5.0      70.0   \n",
      "131947        68.0          30.08  0.0   1.0           5.0      70.0   \n",
      "131948        68.0          30.08  0.0   1.0           5.0      70.0   \n",
      "131949        68.0          30.08  0.0   1.0           5.0      70.0   \n",
      "131950        68.0          30.08  0.0   1.0           5.0      70.0   \n",
      "\n",
      "        meantempi  maxtempi  precipi  thunder  \n",
      "0            60.0      69.0     0.00      0.0  \n",
      "1            60.0      69.0     0.00      0.0  \n",
      "2            60.0      69.0     0.00      0.0  \n",
      "3            60.0      69.0     0.00      0.0  \n",
      "4            60.0      69.0     0.00      0.0  \n",
      "5            60.0      69.0     0.00      0.0  \n",
      "6            60.0      69.0     0.00      0.0  \n",
      "7            60.0      69.0     0.00      0.0  \n",
      "8            60.0      69.0     0.00      0.0  \n",
      "9            60.0      69.0     0.00      0.0  \n",
      "10           60.0      69.0     0.00      0.0  \n",
      "11           60.0      69.0     0.00      0.0  \n",
      "12           60.0      69.0     0.00      0.0  \n",
      "13           60.0      69.0     0.00      0.0  \n",
      "14           60.0      69.0     0.00      0.0  \n",
      "15           60.0      69.0     0.00      0.0  \n",
      "16           60.0      69.0     0.00      0.0  \n",
      "17           60.0      69.0     0.00      0.0  \n",
      "18           60.0      69.0     0.00      0.0  \n",
      "19           60.0      69.0     0.00      0.0  \n",
      "20           60.0      69.0     0.00      0.0  \n",
      "21           60.0      69.0     0.00      0.0  \n",
      "22           60.0      69.0     0.00      0.0  \n",
      "23           60.0      69.0     0.00      0.0  \n",
      "24           60.0      69.0     0.00      0.0  \n",
      "25           60.0      69.0     0.00      0.0  \n",
      "26           60.0      69.0     0.00      0.0  \n",
      "27           60.0      69.0     0.00      0.0  \n",
      "28           60.0      69.0     0.00      0.0  \n",
      "29           60.0      69.0     0.00      0.0  \n",
      "...           ...       ...      ...      ...  \n",
      "131921       78.0      86.0     0.29      0.0  \n",
      "131922       78.0      86.0     0.29      0.0  \n",
      "131923       78.0      86.0     0.29      0.0  \n",
      "131924       78.0      86.0     0.29      0.0  \n",
      "131925       78.0      86.0     0.29      0.0  \n",
      "131926       78.0      86.0     0.29      0.0  \n",
      "131927       78.0      86.0     0.29      0.0  \n",
      "131928       78.0      86.0     0.29      0.0  \n",
      "131929       78.0      86.0     0.29      0.0  \n",
      "131930       78.0      86.0     0.29      0.0  \n",
      "131931       78.0      86.0     0.29      0.0  \n",
      "131932       78.0      86.0     0.29      0.0  \n",
      "131933       78.0      86.0     0.29      0.0  \n",
      "131934       78.0      86.0     0.29      0.0  \n",
      "131935       78.0      86.0     0.29      0.0  \n",
      "131936       78.0      86.0     0.29      0.0  \n",
      "131937       78.0      86.0     0.29      0.0  \n",
      "131938       78.0      86.0     0.29      0.0  \n",
      "131939       78.0      86.0     0.29      0.0  \n",
      "131940       78.0      86.0     0.29      0.0  \n",
      "131941       78.0      86.0     0.29      0.0  \n",
      "131942       78.0      86.0     0.29      0.0  \n",
      "131943       78.0      86.0     0.29      0.0  \n",
      "131944       78.0      86.0     0.29      0.0  \n",
      "131945       78.0      86.0     0.29      0.0  \n",
      "131946       78.0      86.0     0.29      0.0  \n",
      "131947       78.0      86.0     0.29      0.0  \n",
      "131948       78.0      86.0     0.29      0.0  \n",
      "131949       78.0      86.0     0.29      0.0  \n",
      "131950       78.0      86.0     0.29      0.0  \n",
      "\n",
      "[131951 rows x 22 columns]\n"
     ]
    }
   ],
   "source": [
    "import pandas as pd\n",
    "\n",
    "fname = \"turnstile_data_master_with_weather.csv\"\n",
    "\n",
    "dataframes = pd.read_csv(fname,sep=\",\")  #pandas.read_csv is used to read a file\n",
    "\n",
    "print (dataframes)"
   ]
  },
  {
   "cell_type": "markdown",
   "metadata": {},
   "source": [
    "### *Exercise 2.2*\n",
    "\n",
    "Now, create a function that calculates the number of rainy days. For this, return the count of the number of days where the column *\"rain\"* is equal to 1.\n",
    "\n",
    "Tip: You might think that interpreting numbers as integers or floats might not\n",
    "     work at first. To handle this issue, it might be useful to convert\n",
    "     these numbers into integers. You can do this by writting cast (column as integer).\n",
    "     So, for example, if we want to launch the column maxtempi as an integer, we have to\n",
    "     write something like cast (maxtempi as integer) = 76, instead of just\n",
    "     where maxtempi = 76."
   ]
  },
  {
   "cell_type": "code",
   "execution_count": 6,
   "metadata": {},
   "outputs": [
    {
     "name": "stdout",
     "output_type": "stream",
     "text": [
      "44104\n"
     ]
    }
   ],
   "source": [
    "import pandas as pd\n",
    "\n",
    "def num_rainy_days(df): \n",
    "    \n",
    "    rainy_days = df['rain'].astype(int).sum()    # .sum() is used to get the sum of a column in dataframe\n",
    "    \n",
    "    return rainy_days\n",
    "\n",
    "\n",
    "fname = \"turnstile_data_master_with_weather.csv\"\n",
    "\n",
    "df = pd.read_csv(fname);\n",
    "\n",
    "print(num_rainy_days(df)) #calling\n"
   ]
  },
  {
   "cell_type": "markdown",
   "metadata": {},
   "source": [
    "### *Exercise 2.3*\n",
    "\n",
    "Calculate if the day was cloudy or not (0 or 1) and the maximum temperature for fog (i.e. the maximum temperature \n",
    "     for cloudy days)."
   ]
  },
  {
   "cell_type": "code",
   "execution_count": 7,
   "metadata": {},
   "outputs": [
    {
     "name": "stdout",
     "output_type": "stream",
     "text": [
      "81.0\n"
     ]
    }
   ],
   "source": [
    "import pandas as pd\n",
    "\n",
    "def max_temp_aggregate_by_fog(df):\n",
    "    \n",
    "    df= df.loc[df[\"fog\"]==1]\n",
    "    \n",
    "    maximum = df[\"maxtempi\"].max()   # .max() is used to get the maximun value in a column in dataframe\n",
    "    \n",
    "    return maximum\n",
    "    \n",
    "\n",
    "fname = \"turnstile_data_master_with_weather.csv\"  \n",
    "\n",
    "df = pd.read_csv(fname);\n",
    "\n",
    "print(max_temp_aggregate_by_fog(df)) #calling\n"
   ]
  },
  {
   "cell_type": "markdown",
   "metadata": {},
   "source": [
    "### *Exercise 2.4\n",
    "\n",
    "Now, calculate the mean for 'meantempi' for the days that are Saturdays or Sundays (weekend):"
   ]
  },
  {
   "cell_type": "code",
   "execution_count": 8,
   "metadata": {},
   "outputs": [
    {
     "name": "stdout",
     "output_type": "stream",
     "text": [
      "65.10066685403307\n"
     ]
    }
   ],
   "source": [
    "def avg_weekend_temperature(filename):\n",
    "   \n",
    "    filename[\"DATEn\"] = pd.to_datetime(filename.DATEn)\n",
    "    \n",
    "    actual_day = (filename.DATEn.dt.weekday_name)       # getting the day from date\n",
    "    \n",
    "    filename = filename.loc[(actual_day==\"Saturday\") | (actual_day==\"Sunday\")]\n",
    "    \n",
    "    mean_temp_weekends = filename[\"meantempi\"].mean()     # .mean() is used to get the mean value in a column in dataframe\n",
    "    \n",
    "    return mean_temp_weekends\n",
    "\n",
    "\n",
    "fname = \"turnstile_data_master_with_weather.csv\"  \n",
    "\n",
    "df = pd.read_csv(fname);\n",
    "\n",
    "print(avg_weekend_temperature(df)) #calling"
   ]
  },
  {
   "cell_type": "markdown",
   "metadata": {},
   "source": [
    "### *Exercise 2.5\n",
    "\n",
    "Calculate the mean of the minimum temperature 'mintempi' for the days when the minimum temperature was greater that 55 degrees:"
   ]
  },
  {
   "cell_type": "code",
   "execution_count": 9,
   "metadata": {},
   "outputs": [
    {
     "name": "stdout",
     "output_type": "stream",
     "text": [
      "63.2699012987013\n"
     ]
    }
   ],
   "source": [
    "def avg_min_temperature(filename):\n",
    "\n",
    "    avg_min_temp_rainy = filename.loc[filename[\"mintempi\"]>55][\"mintempi\"].mean()\n",
    "    \n",
    "    return avg_min_temp_rainy\n",
    "\n",
    "   \n",
    "fname = \"turnstile_data_master_with_weather.csv\"  \n",
    "\n",
    "df = pd.read_csv(fname);\n",
    "\n",
    "print(avg_min_temperature(df)) #calling"
   ]
  },
  {
   "cell_type": "markdown",
   "metadata": {},
   "source": [
    "### *Exercise 2.6\n",
    "\n",
    "Before you make any analysis, it might be useful to look at the data we want to analyse. More specifically, we will evaluate the entries by hour in our data from the NYC Subway to determine the data distribution. This data is stored in the column ['ENTRIESn_hourly'].\n",
    "    \n",
    "Draw two histogramns in the same axis, to show the entries when it's raining vs when it's not. \n",
    "Below, you will find an example of how to draw histogramns with Pandas and Matplotlib:\n",
    "     \n",
    "```python\n",
    "Turnstile_weather ['column_to_graph']. Hist ()\n",
    "```   \n",
    "    "
   ]
  },
  {
   "cell_type": "code",
   "execution_count": 10,
   "metadata": {},
   "outputs": [
    {
     "data": {
      "image/png": "[encoded data removed]",
      "text/plain": [
       "<matplotlib.figure.Figure at 0x1e4b1856fd0>"
      ]
     },
     "metadata": {},
     "output_type": "display_data"
    }
   ],
   "source": [
    "import numpy as np\n",
    "import pandas\n",
    "import matplotlib.pyplot as pl\n",
    "\n",
    "def entries_histogram(turnstile_weather):\n",
    "    \n",
    "    \n",
    "    pl.figure()\n",
    "    \n",
    "    turnstile_weather.loc[turnstile_weather['rain']==0]['ENTRIESn_hourly'].hist(label=\"Non-Rainy Day\")  # Histogram for hourly entries on non-raing days\n",
    "    \n",
    "    turnstile_weather.loc[turnstile_weather['rain']==1]['ENTRIESn_hourly'].hist(label=\"Rainy Day\")      # Histogram for hourly entries on rainy days \n",
    "    \n",
    "    pl.legend()\n",
    "    \n",
    "    return pl\n",
    "\n",
    "fname = \"turnstile_data_master_with_weather.csv\"  \n",
    "\n",
    "df = pandas.read_csv(fname); \n",
    "\n",
    "entries_histogram(df).show() #calling\n"
   ]
  },
  {
   "cell_type": "markdown",
   "metadata": {},
   "source": [
    "### *Exercise 2.7\n",
    "\n",
    "The data you just plotted is in what kind of distribution? Is there a difference in distribution between rainy and non-rainy days?"
   ]
  },
  {
   "cell_type": "markdown",
   "metadata": {},
   "source": [
    "** Answer **: It is Right skewed distribution.There are more numbers of hourly entries on non-rainy days as compared to rainy days."
   ]
  },
  {
   "cell_type": "markdown",
   "metadata": {},
   "source": [
    "### *Exercise 2.8\n",
    "\n",
    "Build a function that returns:\n",
    "\n",
    "1. The mean of entries when it's raining\n",
    "2. The mean of entries when it's not raining\n",
    "\n",
    "\n"
   ]
  },
  {
   "cell_type": "code",
   "execution_count": 17,
   "metadata": {},
   "outputs": [
    {
     "name": "stdout",
     "output_type": "stream",
     "text": [
      "(1105.4463767458733, 1090.278780151855)\n"
     ]
    }
   ],
   "source": [
    "import numpy as np\n",
    "\n",
    "import pandas\n",
    "\n",
    "def means(turnstile_weather): \n",
    "    \n",
    "    \n",
    "    \n",
    "    with_rain_mean = turnstile_weather.loc[turnstile_weather[\"rain\"]==1][\"ENTRIESn_hourly\"].mean()     # mean of hourly entries on rainy days\n",
    "    \n",
    "    without_rain_mean = turnstile_weather.loc[turnstile_weather[\"rain\"]==0][\"ENTRIESn_hourly\"].mean()  # mean of hourly entries on non-rainy days\n",
    "    \n",
    "    return with_rain_mean, without_rain_mean # leave this line for the grader\n",
    "\n",
    "\n",
    "fname = \"turnstile_data_master_with_weather.csv\"   #turnstile_data_master_with_weather\n",
    "\n",
    "df = pandas.read_csv(fname);\n",
    "\n",
    "print(means(df)) #calling"
   ]
  },
  {
   "cell_type": "markdown",
   "metadata": {},
   "source": [
    "Answer to the following questions according to your functions' exits:\n",
    "\n",
    "1. What is the mean of entries when it's raining?\n",
    "2. What is the mean of entries when it's not raining?\n"
   ]
  },
  {
   "cell_type": "markdown",
   "metadata": {},
   "source": [
    "** Answer **: Raining - 1105.4463767458733    Not Raining - 1090.278780151855"
   ]
  },
  {
   "cell_type": "markdown",
   "metadata": {},
   "source": [
    "## Exercise 3 - Map Reduce\n",
    "\n",
    "### *Exercise 3.1*\n",
    "\n",
    "The entry for this exercise is the same file from the previous session (Exercise 2). You can download the file from this link:\n",
    "\n",
    " https://s3.amazonaws.com/content.udacity-data.com/courses/ud359/turnstile_data_master_with_weather.csv\n",
    "\n",
    "Now, we will create a mapper. For each entry line, the mapper exit must PRINT (not return) UNIT as a key, and the number of ENTRIESn_hourly as the value. Separate the key and the value with a tab. For example: 'R002 \\ t105105.0'\n",
    "\n",
    "Export your mapper into a file named mapper_result.txt and send it with your submission. The code for exporting your mapper is already written in the code bellow.\n",
    "\n",
    "\n"
   ]
  },
  {
   "cell_type": "code",
   "execution_count": 18,
   "metadata": {
    "collapsed": true
   },
   "outputs": [],
   "source": [
    "import sys\n",
    "\n",
    "def mapper():\n",
    "    sys.stdin.readline()              # skips the header line\n",
    "    \n",
    "    for line in sys.stdin:\n",
    "        var = line.split(',')\n",
    "       \n",
    "        if len(var)!=22:\n",
    "            continue\n",
    "        \n",
    "        print(\"{0}\\t{1}\".format(var[1],var[6]))      # gives UNIT and ENTRIESn_hourly with a tab in between\n",
    "\n",
    "sys.stdin = open('turnstile_data_master_with_weather.csv')\n",
    "\n",
    "sys.stdout = open('mapper_result.txt', 'w')          # writes the result in mapper_result.txt file\n",
    "\n",
    "mapper() #calling\n"
   ]
  },
  {
   "cell_type": "markdown",
   "metadata": {},
   "source": [
    "### *Exercise 3.2*\n",
    "\n",
    "Now, create the reducer. Given the mapper result from the previous exercise, the reducer must print (not return) one line per UNIT, with the total number of ENTRIESn_hourly during May (which is our data duration), separated by a tab. An example of exit line from the reducer may look like this: 'R001 \\ t500625.0'\n",
    "\n",
    "You can assume that the entry for the reducer is ordered in a way that all lines corresponding to a particular unit are grouped. However, the reducer exit will have repetition, as there are stores that appear in different files' locations.\n",
    "\n",
    "Export your reducer into a file named reducer_result.txt and send it with your submission."
   ]
  },
  {
   "cell_type": "code",
   "execution_count": 19,
   "metadata": {
    "collapsed": true
   },
   "outputs": [],
   "source": [
    "def reducer():\n",
    "    \n",
    "    count =0                     # used for getting the count of hourly entries for each unit\n",
    "    n1 = None                    # used as key as for UNIT \n",
    "    \n",
    "    for line in sys.stdin:\n",
    "        var = line.split('\\t')\n",
    "    \n",
    "        if len(var)!=2:\n",
    "            continue\n",
    "        \n",
    "        n2,val = var\n",
    "        \n",
    "        if n1 and n1!=n2:         # counts the number of hourly entries till we get a new UNIT as key\n",
    "            print (n1,'\\t',count)\n",
    "            n1=n2\n",
    "            count=0\n",
    "        \n",
    "        n1=n2\n",
    "        count = count + float(val)\n",
    "    \n",
    "    if n1!=None:                    \n",
    "        print (n1,'\\t',count)\n",
    "\n",
    "sys.stdin = open('mapper_result.txt','r').readlines()\n",
    "\n",
    "sys.stdout = open('reducer_result.txt','w')  # writes the result of reducer in 'reducer_result.txt' file\n",
    "\n",
    "reducer() #calling\n"
   ]
  },
  {
   "cell_type": "code",
   "execution_count": null,
   "metadata": {
    "collapsed": true
   },
   "outputs": [],
   "source": []
  }
 ],
 "metadata": {
  "celltoolbar": "Edit Metadata",
  "kernelspec": {
   "display_name": "Python 3",
   "language": "python",
   "name": "python3"
  },
  "language_info": {
   "codemirror_mode": {
    "name": "ipython",
    "version": 3
   },
   "file_extension": ".py",
   "mimetype": "text/x-python",
   "name": "python",
   "nbconvert_exporter": "python",
   "pygments_lexer": "ipython3",
   "version": "3.6.3"
  }
 },
 "nbformat": 4,
 "nbformat_minor": 2
}
